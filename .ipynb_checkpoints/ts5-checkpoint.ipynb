{
 "cells": [
  {
   "cell_type": "markdown",
   "id": "844a6a60-4672-4075-bbe0-1b121de48a4a",
   "metadata": {},
   "source": [
    "# TS5\n",
    "# Estimación espectral: Ancho de banda de señales reales\n",
    "\n",
    "### Autoras: Catalina Gonzalez Araujo y Lola Pampin\n",
    "## Docentes: Mariano Llamedo Soria, Francisco Hernan Ledesma y David Ezequiel Benoit\n",
    "\n",
    "12/10/2025"
   ]
  },
  {
   "cell_type": "code",
   "execution_count": null,
   "id": "d01b25c2-0941-4b2c-9222-ba00595a5684",
   "metadata": {},
   "outputs": [],
   "source": []
  }
 ],
 "metadata": {
  "kernelspec": {
   "display_name": "Python 3 (ipykernel)",
   "language": "python",
   "name": "python3"
  },
  "language_info": {
   "codemirror_mode": {
    "name": "ipython",
    "version": 3
   },
   "file_extension": ".py",
   "mimetype": "text/x-python",
   "name": "python",
   "nbconvert_exporter": "python",
   "pygments_lexer": "ipython3",
   "version": "3.13.5"
  }
 },
 "nbformat": 4,
 "nbformat_minor": 5
}
