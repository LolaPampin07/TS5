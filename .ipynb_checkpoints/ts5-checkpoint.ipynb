{
 "cells": [
  {
   "cell_type": "markdown",
   "id": "844a6a60-4672-4075-bbe0-1b121de48a4a",
   "metadata": {},
   "source": [
    "# TS5\n",
    "# Estimación espectral: Ancho de banda de señales reales\n",
    "\n",
    "### Autoras: Catalina Gonzalez Araujo y Lola Pampin\n",
    "## Docentes: Mariano Llamedo Soria, Francisco Hernan Ledesma y David Ezequiel Benoit\n",
    "\n",
    "12/10/2025"
   ]
  },
  {
   "cell_type": "markdown",
   "id": "be46402b-ec1b-4729-b051-707cea260c3a",
   "metadata": {},
   "source": [
    "# I. **Introducción**\n",
    "## Métodos de estimación espectral\n",
    "\n",
    "En la práctica, el cálculo de la densidad espectral de potencia (PSD) es restringido, debido a que se cuenta con una cantidad de muestras y realizaciones limitadas del proceso aleatorio y generalmente se desconoce la función de probabilidad. Por ello, se utilizan diversos métodos de estimación espectral, que se detallan a continuación.\n",
    "\n",
    "### Periodograma\n",
    "\n",
    "Se define a x[n] como un proceso aleatorio de longitud infinita, con media 0 y WSS (wide-sense stationary), cuya autocorrelación $r_{xx}[l]$ es absolutamente sumable.\n",
    "$$\n",
    "\\sum_{l=-\\infty}^{\\infty} |r_{xx}[l]| < \\infty\n",
    "$$\n",
    "\n",
    "La densidad espectral de potencia (PDS) de x[n], $S_{xx}(\\omega)$, se define mediante la DTFT de la función de autocorrelación.\n",
    "\n",
    "$$\n",
    "S_{xx}(\\omega) \\triangleq \\mathcal{F}\\{r_{xx}[l]\\} = \\sum_{l=-\\infty}^{\\infty} r_{xx}[l]e^{-j\\omega l} \\tag{14.6}\n",
    "$$\n",
    "El periodograma es un estimador de la densidad espectral de potencia basado en N mediciones sampleadas de x[n]. Se define mediante la siguiente ecuación:\n",
    "\n",
    "$$\n",
    "\\hat{S}_{xx}(\\omega,N)= \\frac{1}{N} \\mathcal{F}\\{x[n]\\} \\cdot \\mathcal{F}\\{x[n-L]\\} = \\frac{1}{N} X_N(\\omega) X_N^*(\\omega) = \\frac{1}{N} |X_N(\\omega)|^2\n",
    "$$\n",
    "\n",
    "$$\n",
    "= \\left| \\frac{1}{N} \\sum_{n=0}^{N-1} x[n]e^{-j\\omega n} \\right|^2 \\tag{14.15}\n",
    "$$\n",
    "\n",
    "Es un estimador con una alta varianza, por lo que se usan variantes mejoradas. \n",
    "\n",
    "### Método de Bartlet\n"
   ]
  },
  {
   "cell_type": "markdown",
   "id": "261f0336-3802-4182-87cd-cfa50167838f",
   "metadata": {},
   "source": [
    "# II. **Desarrollo**"
   ]
  },
  {
   "cell_type": "markdown",
   "id": "9ab311ce-b2b0-43a2-bde7-051afc79c95f",
   "metadata": {},
   "source": [
    "# III. **Conclusiones**"
   ]
  },
  {
   "cell_type": "code",
   "execution_count": null,
   "id": "b9a7da11-d43c-44d6-9012-e0216a13e577",
   "metadata": {},
   "outputs": [],
   "source": []
  }
 ],
 "metadata": {
  "kernelspec": {
   "display_name": "Python 3 (ipykernel)",
   "language": "python",
   "name": "python3"
  },
  "language_info": {
   "codemirror_mode": {
    "name": "ipython",
    "version": 3
   },
   "file_extension": ".py",
   "mimetype": "text/x-python",
   "name": "python",
   "nbconvert_exporter": "python",
   "pygments_lexer": "ipython3",
   "version": "3.13.5"
  }
 },
 "nbformat": 4,
 "nbformat_minor": 5
}
